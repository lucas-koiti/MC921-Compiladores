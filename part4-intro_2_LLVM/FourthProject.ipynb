{
 "cells": [
  {
   "cell_type": "markdown",
   "metadata": {},
   "source": [
    "# Fourth Step"
   ]
  },
  {
   "cell_type": "markdown",
   "metadata": {},
   "source": [
    "In this fourth project, you're going to translate the optimized SSA intermediate representation uCIR into LLVM IR, the intermediate representation of LLVM that is partially specified in [LLVM Primer](./llvm_primer.ipynb). LLVM is a set of production-quality reusable libraries for building compilers. LLVM separates computer architectures from language issues and simplifies the design and portability of new compilers. Before you start, carefully study this simplified specification of the LLVM-IR, tailored to our needs, to familiarize yourself with data structures, addressing modes, and the instructions. The full LLVM IR specification you can find [here](https://llvm.org/docs/LangRef.html).\n",
    "\n",
    "We will try to give you a hand by giving you some of the pieces prewritten and littered your code with helpful statements. By the time you’re done, you’ll have a pretty thorough understanding of the execution code for uC programs and will even gain a little reading familiarity with LLVM-IR."
   ]
  },
  {
   "cell_type": "markdown",
   "metadata": {},
   "source": [
    "# llvmlite\n",
    "\n",
    "To carry out this step, we will make use of the llvmlite library. llvmlite is a lightweight LLVM python binding for writing JIT compilers. We do not need a full LLVM API. Only the IR builder, optimizer, and JIT compiler APIs are necessary. So, llvmlite is a project tailored for us, using the following approach: a small C wrapper around the parts of the LLVM C++ API we need that are not already exposed by the LLVM C API; a ctypes Python wrapper around the C API; and a pure Python implementation of the subset of the LLVM IR builder. You'll find the documentation and how to install llvmlite at http://llvmlite.pydata.org. An example, extracted from the llvmlite documentation, is showed [here](./llvm_example.ipynb). Study it carefully.\n"
   ]
  },
  {
   "cell_type": "markdown",
   "metadata": {},
   "source": [
    "# Generating Code\n",
    "\n",
    "The basic idea in this step is exactly the same as the interpreter in the step 2. You'll make a class that walks through the instruction sequence and triggers a method for each kind of instruction.  Instead of running the instruction however, you'll be generating LLVM instructions. The code below show an example to interface with llvm. Further instructions are contained in the comments."
   ]
  },
  {
   "cell_type": "code",
   "execution_count": null,
   "metadata": {},
   "outputs": [],
   "source": [
    "from llvmlite import ir, binding\n",
    "from ctypes import CFUNCTYPE, c_int\n",
    "\n",
    "class CodeGen():\n",
    "    def __init__(self):\n",
    "        self.binding = binding\n",
    "        self.binding.initialize()\n",
    "        self.binding.initialize_native_target()\n",
    "        self.binding.initialize_native_asmprinter()\n",
    "        \n",
    "        self.module = ir.Module(name=__file__)\n",
    "        self.module.triple = self.binding.get_default_triple()\n",
    "        \n",
    "        self._create_execution_engine()\n",
    "        \n",
    "        # declare external functions\n",
    "        self._declare_printf_function()\n",
    "        self._declare_scanf_function()\n",
    "\n",
    "    def _create_execution_engine(self):\n",
    "        \"\"\"\n",
    "        Create an ExecutionEngine suitable for JIT code generation on\n",
    "        the host CPU.  The engine is reusable for an arbitrary number of\n",
    "        modules.\n",
    "        \"\"\"\n",
    "        target = self.binding.Target.from_default_triple()\n",
    "        target_machine = target.create_target_machine()\n",
    "        # And an execution engine with an empty backing module\n",
    "        backing_mod = binding.parse_assembly(\"\")\n",
    "        engine = binding.create_mcjit_compiler(backing_mod, target_machine)\n",
    "        self.engine = engine\n",
    "\n",
    "    def _declare_printf_function(self):\n",
    "        voidptr_ty = ir.IntType(8).as_pointer()\n",
    "        printf_ty = ir.FunctionType(ir.IntType(32), [voidptr_ty], var_arg=True)\n",
    "        printf = ir.Function(self.module, printf_ty, name=\"printf\")\n",
    "        self.printf = printf\n",
    "\n",
    "    def _declare_scanf_function(self):\n",
    "        voidptr_ty = ir.IntType(8).as_pointer()\n",
    "        scanf_ty = ir.FunctionType(ir.IntType(32), [voidptr_ty], var_arg=True)\n",
    "        scanf = ir.Function(self.module, scanf_ty, name=\"scanf\")\n",
    "        self.scanf = scanf\n",
    "\n",
    "    def _compile_ir(self):\n",
    "        \"\"\"\n",
    "        Compile the LLVM IR string with the given engine.\n",
    "        The compiled module object is returned.\n",
    "        \"\"\"\n",
    "        # Create a LLVM module object from the IR\n",
    "        llvm_ir = str(self.module)\n",
    "        mod = self.binding.parse_assembly(llvm_ir)\n",
    "        mod.verify()\n",
    "        # Now add the module and make sure it is ready for execution\n",
    "        self.engine.add_module(mod)\n",
    "        self.engine.finalize_object()\n",
    "        self.engine.run_static_constructors()\n",
    "        return mod\n",
    "\n",
    "    def save_ir(self, filename):\n",
    "        with open(filename, 'w') as output_file:\n",
    "            output_file.write(str(self.module))\n",
    "            \n",
    "    def execute_ir(self):\n",
    "        mod = self._compile_ir()\n",
    "        # Obtain a pointer to the compiled 'main' - it's the address of its JITed code in memory.\n",
    "        main_ptr = self.engine.get_pointer_to_function(mod.get_function('main'))\n",
    "        # To convert an address to an actual callable thing we have to use\n",
    "        # CFUNCTYPE, and specify the arguments & return type.\n",
    "        main_function = CFUNCTYPE(c_int)(main_ptr)\n",
    "        # Now 'main_function' is an actual callable we can invoke\n",
    "        res = main_function()\n",
    "        print(res)"
   ]
  },
  {
   "cell_type": "markdown",
   "metadata": {},
   "source": [
    "## printf Sample Code \n",
    "\n",
    "The code snippet below shows how you can map the print instruction from uCIR to LLVM. Part of the class structure that generates LLVM instructions for a function is shown. Use it as a guide. "
   ]
  },
  {
   "cell_type": "code",
   "execution_count": null,
   "metadata": {},
   "outputs": [],
   "source": [
    "def make_bytearray(buf):\n",
    "    # Make a byte array constant from *buf*.\n",
    "    b = bytearray(buf)\n",
    "    n = len(b)\n",
    "    return ir.Constant(ir.ArrayType(ir.IntType(8), n), b)\n",
    "\n",
    "\n",
    "class LLVMFunctionVisitor(BlockVisitor):\n",
    "\n",
    "    def __init__(self, module):\n",
    "        self.module = module\n",
    "        self.func = None\n",
    "        self.builder = None\n",
    "        self.loc = {}\n",
    "\n",
    "    def _global_constant(self, builder_or_module, name, value, linkage='internal'):\n",
    "        # Get or create a (LLVM module-)global constant with *name* or *value*.\n",
    "        if isinstance(builder_or_module, ir.Module):\n",
    "            mod = builder_or_module\n",
    "        else:\n",
    "            mod = builder_or_module.module\n",
    "        data = ir.GlobalVariable(mod, value.type, name=name)\n",
    "        data.linkage = linkage\n",
    "        data.global_constant = True\n",
    "        data.initializer = value\n",
    "        data.align = 1\n",
    "        return data\n",
    "\n",
    "    def _cio(self, fname, format, *target):\n",
    "        # Make global constant for string format\n",
    "        mod = self.builder.module\n",
    "        fmt_bytes = make_bytearray((format + '\\00').encode('ascii'))\n",
    "        global_fmt = self._global_constant(mod, mod.get_unique_name('.fmt'), fmt_bytes)\n",
    "        fn = mod.get_global(fname)\n",
    "        ptr_fmt = self.builder.bitcast(global_fmt, ir.IntType(8).as_pointer())\n",
    "        return self.builder.call(fn, [ptr_fmt] + list(target))\n",
    "\n",
    "    def _build_print(self, val_type, target):\n",
    "        if target:\n",
    "            # get the object assigned to target\n",
    "            _value = self._get_loc(target)\n",
    "            if val_type == 'int':\n",
    "                self._cio('printf', '%d', _value)\n",
    "            elif val_type == 'float':\n",
    "                self._cio('printf', '%.2f', _value)\n",
    "            elif val_type == 'char':\n",
    "                self._cio('printf', '%c', _value)\n",
    "            elif val_type == 'string':\n",
    "                self._cio('printf', '%s', _value)\n",
    "        else:\n",
    "            self._cio('printf', '\\n')"
   ]
  }
 ],
 "metadata": {
  "@webio": {
   "lastCommId": null,
   "lastKernelId": null
  },
  "kernelspec": {
   "display_name": "Python 3",
   "language": "python",
   "name": "python3"
  },
  "language_info": {
   "codemirror_mode": {
    "name": "ipython",
    "version": 3
   },
   "file_extension": ".py",
   "mimetype": "text/x-python",
   "name": "python",
   "nbconvert_exporter": "python",
   "pygments_lexer": "ipython3",
   "version": "3.7.7"
  },
  "latex_envs": {
   "LaTeX_envs_menu_present": true,
   "autoclose": false,
   "autocomplete": true,
   "bibliofile": "biblio.bib",
   "cite_by": "apalike",
   "current_citInitial": 1,
   "eqLabelWithNumbers": true,
   "eqNumInitial": 1,
   "hotkeys": {
    "equation": "Ctrl-E",
    "itemize": "Ctrl-I"
   },
   "labels_anchors": false,
   "latex_user_defs": false,
   "report_style_numbering": false,
   "user_envs_cfg": false
  },
  "toc": {
   "base_numbering": 1,
   "nav_menu": {},
   "number_sections": true,
   "sideBar": true,
   "skip_h1_title": false,
   "title_cell": "Table of Contents",
   "title_sidebar": "Contents",
   "toc_cell": false,
   "toc_position": {},
   "toc_section_display": true,
   "toc_window_display": false
  }
 },
 "nbformat": 4,
 "nbformat_minor": 2
}
